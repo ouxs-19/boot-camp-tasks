{
 "cells": [
  {
   "cell_type": "code",
   "execution_count": 25,
   "id": "electric-spring",
   "metadata": {},
   "outputs": [],
   "source": [
    "import matplotlib.pyplot as plt\n",
    "import matplotlib.image as mpimg\n",
    "from numpy.linalg import norm\n",
    "import random"
   ]
  },
  {
   "cell_type": "code",
   "execution_count": 10,
   "id": "defined-tiger",
   "metadata": {},
   "outputs": [],
   "source": [
    "IMAGE_PATH = './cyber.jpg'  \n",
    "img = mpimg.imread(IMAGE_PATH)  #reading the image\n"
   ]
  },
  {
   "cell_type": "code",
   "execution_count": 11,
   "id": "quantitative-wellington",
   "metadata": {},
   "outputs": [
    {
     "data": {
      "text/plain": [
       "<matplotlib.image.AxesImage at 0x7f4349546430>"
      ]
     },
     "execution_count": 11,
     "metadata": {},
     "output_type": "execute_result"
    },
    {
     "data": {
      "image/png": "[encoded data removed]",
      "text/plain": [
       "<Figure size 432x288 with 1 Axes>"
      ]
     },
     "metadata": {
      "needs_background": "light"
     },
     "output_type": "display_data"
    }
   ],
   "source": [
    "plt.imshow(img) #showing the image"
   ]
  },
  {
   "cell_type": "code",
   "execution_count": 17,
   "id": "dirty-ridge",
   "metadata": {},
   "outputs": [
    {
     "data": {
      "text/plain": [
       "array([[[255, 255, 255],\n",
       "        [255, 255, 255],\n",
       "        [255, 255, 255],\n",
       "        ...,\n",
       "        [255, 255, 255],\n",
       "        [255, 255, 255],\n",
       "        [255, 255, 255]],\n",
       "\n",
       "       [[255, 255, 255],\n",
       "        [255, 255, 255],\n",
       "        [255, 255, 255],\n",
       "        ...,\n",
       "        [255, 255, 255],\n",
       "        [255, 255, 255],\n",
       "        [255, 255, 255]],\n",
       "\n",
       "       [[255, 255, 255],\n",
       "        [255, 255, 255],\n",
       "        [255, 255, 255],\n",
       "        ...,\n",
       "        [255, 255, 255],\n",
       "        [255, 255, 255],\n",
       "        [255, 255, 255]],\n",
       "\n",
       "       ...,\n",
       "\n",
       "       [[ 17,  18,  36],\n",
       "        [ 17,  18,  36],\n",
       "        [ 17,  18,  36],\n",
       "        ...,\n",
       "        [ 17,  18,  36],\n",
       "        [ 17,  18,  36],\n",
       "        [ 17,  18,  36]],\n",
       "\n",
       "       [[ 17,  18,  36],\n",
       "        [ 17,  18,  36],\n",
       "        [ 17,  18,  36],\n",
       "        ...,\n",
       "        [ 17,  18,  36],\n",
       "        [ 17,  18,  36],\n",
       "        [ 17,  18,  36]],\n",
       "\n",
       "       [[ 17,  18,  36],\n",
       "        [ 17,  18,  36],\n",
       "        [ 17,  18,  36],\n",
       "        ...,\n",
       "        [ 17,  18,  36],\n",
       "        [ 17,  18,  36],\n",
       "        [ 17,  18,  36]]], dtype=uint8)"
      ]
     },
     "execution_count": 17,
     "metadata": {},
     "output_type": "execute_result"
    }
   ],
   "source": [
    "img #display the tensor that represent the image"
   ]
  },
  {
   "cell_type": "code",
   "execution_count": 20,
   "id": "injured-mambo",
   "metadata": {},
   "outputs": [
    {
     "data": {
      "text/plain": [
       "array([[255, 255, 255],\n",
       "       [255, 255, 255],\n",
       "       [255, 255, 255],\n",
       "       ...,\n",
       "       [255, 255, 255],\n",
       "       [255, 255, 255],\n",
       "       [255, 255, 255]], dtype=uint8)"
      ]
     },
     "execution_count": 20,
     "metadata": {},
     "output_type": "execute_result"
    }
   ],
   "source": [
    "matr = img[random.randint(0,len(img))] #choosing a random matrix in our tensor\n",
    "matr # displaying the matrix"
   ]
  },
  {
   "cell_type": "code",
   "execution_count": 21,
   "id": "extra-algeria",
   "metadata": {},
   "outputs": [
    {
     "data": {
      "text/plain": [
       "array([[255, 255, 255, ..., 255, 255, 255],\n",
       "       [255, 255, 255, ..., 255, 255, 255],\n",
       "       [255, 255, 255, ..., 255, 255, 255]], dtype=uint8)"
      ]
     },
     "execution_count": 21,
     "metadata": {},
     "output_type": "execute_result"
    }
   ],
   "source": [
    "matr.T # Transpose of our matrixc"
   ]
  },
  {
   "cell_type": "code",
   "execution_count": 35,
   "id": "incorporate-penguin",
   "metadata": {},
   "outputs": [],
   "source": [
    "def is_diag(mat):\n",
    "    for i,vector in enumerate(mat):\n",
    "        for j, value in enumerate(vector):\n",
    "            if value != 0 and i!=j:\n",
    "                return False\n",
    "    return True"
   ]
  },
  {
   "cell_type": "code",
   "execution_count": 37,
   "id": "entertaining-resort",
   "metadata": {},
   "outputs": [
    {
     "data": {
      "text/plain": [
       "False"
      ]
     },
     "execution_count": 37,
     "metadata": {},
     "output_type": "execute_result"
    }
   ],
   "source": [
    "is_diag(matr) # check if our matrix is daigonal"
   ]
  },
  {
   "cell_type": "code",
   "execution_count": 32,
   "id": "passive-composer",
   "metadata": {},
   "outputs": [
    {
     "data": {
      "text/plain": [
       "array([224, 224, 224], dtype=uint8)"
      ]
     },
     "execution_count": 32,
     "metadata": {},
     "output_type": "execute_result"
    }
   ],
   "source": [
    "vector = matr[random.randint(0,len(matr))] #choosing a random vector from our matrix\n",
    "vector        "
   ]
  },
  {
   "cell_type": "code",
   "execution_count": 34,
   "id": "fatal-globe",
   "metadata": {},
   "outputs": [
    {
     "name": "stdout",
     "output_type": "stream",
     "text": [
      "L1 norm : 672.0\n",
      "L2 norm : 387.9793808954285\n"
     ]
    }
   ],
   "source": [
    "print(f\"L1 norm : {norm(vector,1)}\") #calculating the norm of our vector\n",
    "print(f\"L2 norm : {norm(vector)}\")"
   ]
  },
  {
   "cell_type": "code",
   "execution_count": null,
   "id": "educated-discovery",
   "metadata": {},
   "outputs": [],
   "source": []
  }
 ],
 "metadata": {
  "kernelspec": {
   "display_name": "Python 3",
   "language": "python",
   "name": "python3"
  },
  "language_info": {
   "codemirror_mode": {
    "name": "ipython",
    "version": 3
   },
   "file_extension": ".py",
   "mimetype": "text/x-python",
   "name": "python",
   "nbconvert_exporter": "python",
   "pygments_lexer": "ipython3",
   "version": "3.9.1+"
  }
 },
 "nbformat": 4,
 "nbformat_minor": 5
}
